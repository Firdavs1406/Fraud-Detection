{
 "cells": [
  {
   "cell_type": "markdown",
   "id": "30c01f18",
   "metadata": {},
   "source": [
    "Маппинг транзакций\n",
    "* Encoded value 0 -> Class: CASH_IN\n",
    "* Encoded value 1 -> Class: CASH_OUT\n",
    "* Encoded value 2 -> Class: DEBIT\n",
    "* Encoded value 3 -> Class: PAYMENT\n",
    "* Encoded value 4 -> Class: TRANSFER"
   ]
  },
  {
   "cell_type": "code",
   "execution_count": 1,
   "id": "fcce4e21",
   "metadata": {},
   "outputs": [],
   "source": [
    "import requests"
   ]
  },
  {
   "cell_type": "code",
   "execution_count": 2,
   "id": "8ebad9ba",
   "metadata": {},
   "outputs": [],
   "source": [
    "base_endpoint = 'http://0.0.0.0:8001'"
   ]
  },
  {
   "cell_type": "markdown",
   "id": "e8a0a2f8",
   "metadata": {},
   "source": [
    "# Health Check"
   ]
  },
  {
   "cell_type": "code",
   "execution_count": 4,
   "id": "bca32e67",
   "metadata": {},
   "outputs": [
    {
     "data": {
      "text/plain": [
       "{'status': 'success'}"
      ]
     },
     "execution_count": 4,
     "metadata": {},
     "output_type": "execute_result"
    }
   ],
   "source": [
    "r = requests.get(url = f'{base_endpoint}/health')\n",
    "r.json()"
   ]
  },
  {
   "cell_type": "markdown",
   "id": "16af54dc",
   "metadata": {},
   "source": [
    "# Test Model"
   ]
  },
  {
   "cell_type": "markdown",
   "id": "0bcaf0d4",
   "metadata": {},
   "source": [
    "## Multiple Inputs"
   ]
  },
  {
   "cell_type": "code",
   "execution_count": 5,
   "id": "36ea2686",
   "metadata": {},
   "outputs": [],
   "source": [
    "# test inputs for predict\n",
    "payload = {\n",
    "    'type': [3, 4],\n",
    "    'amount': [1864.28, 181.0],\n",
    "    'oldbalanceOrg': [21249.0, 181.0],\n",
    "    'newbalanceOrig': [19384.72, 0.00],\n",
    "    'oldbalanceDest': [0.0, 0.0],\n",
    "    'newbalanceDest': [0.0, 0.0]\n",
    "}"
   ]
  },
  {
   "cell_type": "code",
   "execution_count": 6,
   "id": "1a72dfc4",
   "metadata": {},
   "outputs": [
    {
     "data": {
      "text/plain": [
       "{'predictions': [0, 1], 'model_name': 'catboost_model.joblib'}"
      ]
     },
     "execution_count": 6,
     "metadata": {},
     "output_type": "execute_result"
    }
   ],
   "source": [
    "r = requests.post(\n",
    "    url = f'{base_endpoint}/predict',\n",
    "    json=payload\n",
    ")\n",
    "r.json()"
   ]
  },
  {
   "cell_type": "markdown",
   "id": "f30aba38",
   "metadata": {},
   "source": [
    "## Single Input"
   ]
  },
  {
   "cell_type": "code",
   "execution_count": 7,
   "id": "57144509",
   "metadata": {},
   "outputs": [],
   "source": [
    "load = {\n",
    "    'type': 1,\n",
    "    'amount': 181,\n",
    "    'oldbalanceOrg': 181,\n",
    "    'newbalanceOrig': 0,\n",
    "    'oldbalanceDest': 21182,\n",
    "    'newbalanceDest': 0\n",
    "}"
   ]
  },
  {
   "cell_type": "code",
   "execution_count": 8,
   "id": "4f060b24",
   "metadata": {},
   "outputs": [
    {
     "data": {
      "text/plain": [
       "{'predictions': [0], 'model_name': 'catboost_model.joblib'}"
      ]
     },
     "execution_count": 8,
     "metadata": {},
     "output_type": "execute_result"
    }
   ],
   "source": [
    "r = requests.post(\n",
    "    url = f'{base_endpoint}/predict',\n",
    "    json=load\n",
    ")\n",
    "r.json()"
   ]
  }
 ],
 "metadata": {
  "kernelspec": {
   "display_name": "Python 3 (ipykernel)",
   "language": "python",
   "name": "python3"
  },
  "language_info": {
   "codemirror_mode": {
    "name": "ipython",
    "version": 3
   },
   "file_extension": ".py",
   "mimetype": "text/x-python",
   "name": "python",
   "nbconvert_exporter": "python",
   "pygments_lexer": "ipython3",
   "version": "3.11.7"
  }
 },
 "nbformat": 4,
 "nbformat_minor": 5
}
